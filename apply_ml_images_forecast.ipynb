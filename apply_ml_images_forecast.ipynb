{
 "cells": [
  {
   "cell_type": "markdown",
   "metadata": {},
   "source": [
    "# Data prepartion"
   ]
  },
  {
   "cell_type": "code",
   "execution_count": null,
   "metadata": {},
   "outputs": [],
   "source": [
    "import glob\n",
    "import numpy as np\n",
    "import xarray as xr\n",
    "\n",
    "\n",
    "netcdf_list=glob.glob('/home/sst/2020*.nc')\n",
    "\n",
    "nc_cont= []\n",
    "for file in netcdf_list:\n",
    "    DS = xr.open_dataset(file)\n",
    "    sst =DS['analysed_sst']\n",
    "    sst = sst.sel(lat = slice(16, 20.5),lon = slice(69,72.5))\n",
    "    sst = sst.data\n",
    "    sst = np.nan_to_num(sst)\n",
    "    feb.append(sst)\n",
    "   \n",
    "data = np.vstack(feb)\n",
    "with open('/home/input_data.npy', 'wb') as f:\n",
    "    np.save(f, data)\n",
    "    \n",
    "print(data.shape)"
   ]
  },
  {
   "cell_type": "code",
   "execution_count": null,
   "metadata": {
    "ExecuteTime": {
     "end_time": "2022-05-09T02:28:40.380343Z",
     "start_time": "2022-05-09T02:28:39.303036Z"
    }
   },
   "outputs": [],
   "source": [
    "import numpy as np\n",
    "from sklearn.preprocessing import MinMaxScaler\n",
    "\n",
    "sst = np.load('input_data1.npy')\n",
    "\n",
    "y = sst.copy()\n",
    "\n",
    "y = np.nan_to_num(y)\n",
    "\n",
    "#print(\"let's take a subset of 500 X 500 and make train-test split\")\n",
    "data_train = np.array(y)\n",
    "data_train = data_train.reshape(len(data_train),158301)\n",
    "#data_test = np.array(y[600:])\n",
    "\n",
    "scaler = MinMaxScaler(feature_range=(0,1))\n",
    "data_train = scaler.fit_transform(data_train)\n",
    "\n"
   ]
  },
  {
   "cell_type": "markdown",
   "metadata": {},
   "source": [
    "# Application of LSTM in imagery forecast"
   ]
  },
  {
   "cell_type": "code",
   "execution_count": null,
   "metadata": {
    "executionInfo": {
     "elapsed": 3955,
     "status": "ok",
     "timestamp": 1624202088796,
     "user": {
      "displayName": "Santosh Mandadi",
      "photoUrl": "https://lh3.googleusercontent.com/a-/AOh14GglRtSKiNlhNk66aB_FrfHHG0UXesGeYqy72Biq=s64",
      "userId": "12333864263515916555"
     },
     "user_tz": -330
    },
    "id": "iF2dFBzw--oX"
   },
   "outputs": [],
   "source": [
    "import numpy as np\n",
    "import matplotlib.pyplot as plt\n",
    "from keras.models import Sequential\n",
    "from keras.layers import Dense\n",
    "from keras.layers import LSTM\n",
    "from keras.layers import Dropout\n",
    "from keras.callbacks import EarlyStopping\n",
    "from keras.callbacks import ModelCheckpoint\n",
    "from keras.models import load_model\n"
   ]
  },
  {
   "cell_type": "code",
   "execution_count": null,
   "metadata": {
    "ExecuteTime": {
     "end_time": "2022-05-09T02:30:29.889410Z",
     "start_time": "2022-05-09T02:30:26.486529Z"
    },
    "id": "VumIx068D2wr"
   },
   "outputs": [],
   "source": [
    "X_train = []\n",
    "y_train = []\n",
    "\n",
    "for i in range(10, 363):\n",
    "    X_train.append(data_train[i-10:i])\n",
    "    y_train.append(data_train[i:i+3])\n",
    "X_train, y_train = np.array(X_train), np.array(y_train)\n",
    "X_train = np.reshape(X_train, (X_train.shape[0], X_train.shape[1],158301))\n",
    "print('Shape of X_train is:',X_train.shape)\n",
    "print('Shape of y_train is:',y_train.shape)\n",
    "print(\"Initialising the RNN\")\n",
    "\n",
    "regressor = Sequential()\n",
    "\n",
    "# Layer 1\n",
    "regressor.add(LSTM(units = 10,activation = 'relu', return_sequences = True, input_shape = (X_train.shape[1], 210166)))\n",
    "# layer 2\n",
    "regressor.add(LSTM(units = 10, return_sequences = True))\n",
    "# layer 3\n",
    "regressor.add(LSTM(units = 10, return_sequences = True))\n",
    "#regressor.add(Dropout(0.2))\n",
    "# layer 4\n",
    "regressor.add(LSTM(units = 10))\n",
    "#regressor.add(Dropout(0.2))\n",
    "\n",
    "# Adding the output layer\n",
    "regressor.add(Dense(units = 630498))\n",
    "\n",
    "#model apply\n",
    "regressor.compile(optimizer = 'adam', loss = 'mean_squared_error',metrics = 'mean_absolute_error')\n",
    "\n",
    "y_train = np.reshape(y_train,(353,630498))\n",
    "es = EarlyStopping(monitor='val_loss', mode='min', verbose=1,patience=3)\n",
    "mc = ModelCheckpoint('model_output.h5', monitor='val_loss', mode='min',save_best_only=True, verbose=1)"
   ]
  },
  {
   "cell_type": "code",
   "execution_count": null,
   "metadata": {
    "id": "HV33y9SVFasy"
   },
   "outputs": [],
   "source": [
    "model = regressor.fit(X_train, y_train,validation_split=0.2, epochs = 10, batch_size = 5,callbacks = [mc])"
   ]
  },
  {
   "cell_type": "markdown",
   "metadata": {
    "id": "1FcN-jvaek2T"
   },
   "source": [
    "# Model evaluation"
   ]
  },
  {
   "cell_type": "code",
   "execution_count": null,
   "metadata": {
    "id": "XBAUeB7QetEv"
   },
   "outputs": [],
   "source": [
    "test = np.load('test_data.npy')\n",
    "model_sst  = load_model('model_output.h5')\n",
    "array = test[-23:-13]\n",
    "scaler = MinMaxScaler(feature_range=(0,1))\n",
    "array = array.reshape(len(array),210166)\n",
    "array = scaler.fit_transform(array)\n",
    "array = np.reshape(array,(1,10,210166))\n",
    "forecast = model_sst.predict(array)\n",
    "day0 = forecast[0,0:210166]\n",
    "day1 = forecast[0,210166:420332]\n",
    "day2 = forecast[0,-210166:]\n",
    "day0 = day0.reshape(1,210166)\n",
    "day1 = day1.reshape(1,210166)\n",
    "day2 = day2.reshape(1,210166)\n",
    "day0 = scaler.inverse_transform(day0)\n",
    "day1 = scaler.inverse_transform(day1)\n",
    "day2 = scaler.inverse_transform(day2)\n",
    "day0 = day0.reshape(466,451)\n",
    "day1 = day1.reshape(466,451)\n",
    "day2 = day2.reshape(466,451)\n",
    "\n",
    "rmse0 = np.sqrt(np.mean((test[-13]-day0)**2))\n",
    "rmse1= np.sqrt(np.mean((test[-12]-day1)**2))\n",
    "rmse2= np.sqrt(np.mean((test[-11]-day2)**2))\n",
    "print('RMSE for day0:',rmse0)\n",
    "print('RMSE for day1:',rmse1)\n",
    "print('RMSE for day2:',rmse2)"
   ]
  },
  {
   "cell_type": "code",
   "execution_count": null,
   "metadata": {
    "colab": {
     "base_uri": "https://localhost:8080/"
    },
    "executionInfo": {
     "elapsed": 855,
     "status": "ok",
     "timestamp": 1612214666344,
     "user": {
      "displayName": "Santosh Mandadi",
      "photoUrl": "https://lh3.googleusercontent.com/a-/AOh14GglRtSKiNlhNk66aB_FrfHHG0UXesGeYqy72Biq=s64",
      "userId": "12333864263515916555"
     },
     "user_tz": -330
    },
    "id": "4axniZ7ce22P",
    "outputId": "b0db6a76-87f3-475f-cdb4-3d538e86192b"
   },
   "outputs": [],
   "source": [
    "test.shape"
   ]
  },
  {
   "cell_type": "code",
   "execution_count": null,
   "metadata": {
    "id": "IrGB3RBDFla_"
   },
   "outputs": [],
   "source": [
    "inputs = y[len(y)-len(data_test)-10:]\n",
    "#inputs = inputs[:,:500,:500]\n",
    "inputs = np.reshape(inputs,(len(inputs),210166))\n",
    "inputs = scaler.transform(inputs)\n",
    "x_test=[]"
   ]
  },
  {
   "cell_type": "code",
   "execution_count": null,
   "metadata": {
    "id": "cjusovYqGsTa"
   },
   "outputs": [],
   "source": [
    "for i in range(10,140):\n",
    "    x_test.append(inputs[i-10:i])\n",
    "\n",
    "x_test = np.array(x_test)\n",
    "x_test = np.reshape(x_test, (x_test.shape[0], x_test.shape[1], 210166))\n",
    "predicted_ch = regressor.predict(x_test)\n",
    "predicted = scaler.inverse_transform(predicted_ch)\n",
    "\n",
    "data_test = np.reshape(data_test,(130,210166))"
   ]
  },
  {
   "cell_type": "code",
   "execution_count": null,
   "metadata": {
    "colab": {
     "base_uri": "https://localhost:8080/"
    },
    "id": "uAkoKXRvI60Q",
    "outputId": "7a8a69e6-3411-4281-b8ca-8b91a405f631"
   },
   "outputs": [],
   "source": [
    "rmse = np.sqrt(np.mean(predicted-data_test)**2)\n",
    "print('RMSE of the model is: ',rmse)"
   ]
  },
  {
   "cell_type": "code",
   "execution_count": null,
   "metadata": {
    "colab": {
     "base_uri": "https://localhost:8080/"
    },
    "id": "O1C0VODVI-o0",
    "outputId": "8c9a7306-dec3-41ca-faf7-aca9c24777bc"
   },
   "outputs": [],
   "source": [
    "print(model.history.keys())"
   ]
  },
  {
   "cell_type": "code",
   "execution_count": null,
   "metadata": {
    "colab": {
     "base_uri": "https://localhost:8080/",
     "height": 295
    },
    "id": "u4Rb4O-l0aX_",
    "outputId": "7b5d7a52-2961-4ef5-891a-cf64bd9ff7c0"
   },
   "outputs": [],
   "source": [
    "plt.plot(model.history['loss'])\n",
    "plt.plot(model.history['val_loss'])\n",
    "plt.title('model performance')\n",
    "plt.ylabel('loss')\n",
    "plt.xlabel('epoch')\n",
    "plt.legend(['train', 'validation'], loc='upper right')\n",
    "plt.show()"
   ]
  },
  {
   "cell_type": "code",
   "execution_count": null,
   "metadata": {
    "id": "MW9FkI0F01Q7"
   },
   "outputs": [],
   "source": [
    "model_sst  = load_model('model_output.h5')"
   ]
  },
  {
   "cell_type": "code",
   "execution_count": null,
   "metadata": {
    "id": "LWkVdNmOz9xT"
   },
   "outputs": [],
   "source": [
    "forecast = model_sst.predict(x_test)\n",
    "predicted = scaler.inverse_transform(forecast)"
   ]
  },
  {
   "cell_type": "code",
   "execution_count": null,
   "metadata": {
    "colab": {
     "base_uri": "https://localhost:8080/"
    },
    "id": "Dfha49EV0A9V",
    "outputId": "c4f78f46-d1c5-4086-c907-495a57d90a1c"
   },
   "outputs": [],
   "source": [
    "rmse = np.sqrt(np.mean(predicted-data_test)**2)\n",
    "print('RMSE of the model is: ',rmse)"
   ]
  },
  {
   "cell_type": "code",
   "execution_count": null,
   "metadata": {
    "id": "cj_y9biP0tj0"
   },
   "outputs": [],
   "source": []
  }
 ],
 "metadata": {
  "accelerator": "TPU",
  "colab": {
   "name": "SST_LSTM_Santhosh_10d.ipynb",
   "provenance": []
  },
  "kernelspec": {
   "display_name": "Python 3 (ipykernel)",
   "language": "python",
   "name": "python3"
  },
  "language_info": {
   "codemirror_mode": {
    "name": "ipython",
    "version": 3
   },
   "file_extension": ".py",
   "mimetype": "text/x-python",
   "name": "python",
   "nbconvert_exporter": "python",
   "pygments_lexer": "ipython3",
   "version": "3.9.7"
  },
  "toc": {
   "base_numbering": 1,
   "nav_menu": {},
   "number_sections": true,
   "sideBar": true,
   "skip_h1_title": false,
   "title_cell": "Table of Contents",
   "title_sidebar": "Contents",
   "toc_cell": false,
   "toc_position": {},
   "toc_section_display": true,
   "toc_window_display": true
  }
 },
 "nbformat": 4,
 "nbformat_minor": 1
}
